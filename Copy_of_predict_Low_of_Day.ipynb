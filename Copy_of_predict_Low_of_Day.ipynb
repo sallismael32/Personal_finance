{
  "nbformat": 4,
  "nbformat_minor": 0,
  "metadata": {
    "colab": {
      "name": "Copy of predict_Low_of_Day.ipynb",
      "provenance": [],
      "collapsed_sections": [],
      "authorship_tag": "ABX9TyPMu4O5IxEHVJekbSWYDol1",
      "include_colab_link": true
    },
    "kernelspec": {
      "name": "python3",
      "display_name": "Python 3"
    }
  },
  "cells": [
    {
      "cell_type": "markdown",
      "metadata": {
        "id": "view-in-github",
        "colab_type": "text"
      },
      "source": [
        "<a href=\"https://colab.research.google.com/github/sallismael32/Personal_finance/blob/master/Copy_of_predict_Low_of_Day.ipynb\" target=\"_parent\"><img src=\"https://colab.research.google.com/assets/colab-badge.svg\" alt=\"Open In Colab\"/></a>"
      ]
    },
    {
      "cell_type": "code",
      "metadata": {
        "id": "nUqodWTiDkEm",
        "colab_type": "code",
        "colab": {
          "base_uri": "https://localhost:8080/",
          "height": 73
        },
        "outputId": "ae0cc666-88cc-4e7a-c926-d6048150ab82"
      },
      "source": [
        "import pandas as pd\n",
        "import numpy as np\n",
        "import matplotlib.pyplot as plt\n",
        "import seaborn as sns\n",
        "from sklearn.linear_model import LinearRegression\n",
        "sns.set()\n",
        "import pandas_datareader as web\n",
        "\n"
      ],
      "execution_count": 1,
      "outputs": [
        {
          "output_type": "stream",
          "text": [
            "/usr/local/lib/python3.6/dist-packages/statsmodels/tools/_testing.py:19: FutureWarning: pandas.util.testing is deprecated. Use the functions in the public API at pandas.testing instead.\n",
            "  import pandas.util.testing as tm\n"
          ],
          "name": "stderr"
        }
      ]
    },
    {
      "cell_type": "code",
      "metadata": {
        "id": "4tfD_GGwDcGV",
        "colab_type": "code",
        "colab": {}
      },
      "source": [
        "s=[\"AMZN\",\"NFLX\",\"AAPL\",\"GOOGL\",\"GOOG\",\"FB\",\"NVDA\",\"MSFT\",\"TSLA\",\"CTAS\",\"PFE\",\"GM\",\"F\",\"NKE\"]\n"
      ],
      "execution_count": 44,
      "outputs": []
    },
    {
      "cell_type": "code",
      "metadata": {
        "id": "cpmG2vGVEruM",
        "colab_type": "code",
        "colab": {}
      },
      "source": [
        "ticker=s[0]"
      ],
      "execution_count": 27,
      "outputs": []
    },
    {
      "cell_type": "code",
      "metadata": {
        "id": "PY1-8wrXEwR2",
        "colab_type": "code",
        "colab": {}
      },
      "source": [
        "df= web.DataReader(ticker,data_source='yahoo',start='2020-07-20',end='today')"
      ],
      "execution_count": 29,
      "outputs": []
    },
    {
      "cell_type": "code",
      "metadata": {
        "id": "X2rznfyoExtH",
        "colab_type": "code",
        "colab": {
          "base_uri": "https://localhost:8080/",
          "height": 196
        },
        "outputId": "3c5bc444-f8be-4dd3-fa11-e77ad28278f0"
      },
      "source": [
        "\n",
        "df.tail(2)"
      ],
      "execution_count": 30,
      "outputs": [
        {
          "output_type": "execute_result",
          "data": {
            "text/html": [
              "<div>\n",
              "<style scoped>\n",
              "    .dataframe tbody tr th:only-of-type {\n",
              "        vertical-align: middle;\n",
              "    }\n",
              "\n",
              "    .dataframe tbody tr th {\n",
              "        vertical-align: top;\n",
              "    }\n",
              "\n",
              "    .dataframe thead th {\n",
              "        text-align: right;\n",
              "    }\n",
              "</style>\n",
              "<table border=\"1\" class=\"dataframe\">\n",
              "  <thead>\n",
              "    <tr style=\"text-align: right;\">\n",
              "      <th></th>\n",
              "      <th>High</th>\n",
              "      <th>Low</th>\n",
              "      <th>Open</th>\n",
              "      <th>Close</th>\n",
              "      <th>Volume</th>\n",
              "      <th>Adj Close</th>\n",
              "    </tr>\n",
              "    <tr>\n",
              "      <th>Date</th>\n",
              "      <th></th>\n",
              "      <th></th>\n",
              "      <th></th>\n",
              "      <th></th>\n",
              "      <th></th>\n",
              "      <th></th>\n",
              "    </tr>\n",
              "  </thead>\n",
              "  <tbody>\n",
              "    <tr>\n",
              "      <th>2020-08-06</th>\n",
              "      <td>3247.469971</td>\n",
              "      <td>3165.429932</td>\n",
              "      <td>3194.360107</td>\n",
              "      <td>3225.000000</td>\n",
              "      <td>3940600</td>\n",
              "      <td>3225.000000</td>\n",
              "    </tr>\n",
              "    <tr>\n",
              "      <th>2020-08-07</th>\n",
              "      <td>3240.810059</td>\n",
              "      <td>3140.669922</td>\n",
              "      <td>3224.010010</td>\n",
              "      <td>3167.459961</td>\n",
              "      <td>3929600</td>\n",
              "      <td>3167.459961</td>\n",
              "    </tr>\n",
              "  </tbody>\n",
              "</table>\n",
              "</div>"
            ],
            "text/plain": [
              "                   High          Low  ...   Volume    Adj Close\n",
              "Date                                  ...                      \n",
              "2020-08-06  3247.469971  3165.429932  ...  3940600  3225.000000\n",
              "2020-08-07  3240.810059  3140.669922  ...  3929600  3167.459961\n",
              "\n",
              "[2 rows x 6 columns]"
            ]
          },
          "metadata": {
            "tags": []
          },
          "execution_count": 30
        }
      ]
    },
    {
      "cell_type": "code",
      "metadata": {
        "id": "LpU9BNyPE197",
        "colab_type": "code",
        "colab": {}
      },
      "source": [
        "df['daily_return']=df['Adj Close'].pct_change()\n",
        "df['low_vs_Open']=100*(-df['Open']+df['Low'])/(df['Open'])\n",
        "df['high_vs_low']=100*(df['High']-df['Low'])/df['High']\n",
        "#df['differ']=df['high_vs_low']-df['daily_return']\n",
        "df['low_Close']=100*(df['Adj Close']-df['Low'])/(df['Adj Close'])\n",
        "df['previous_Open']=df['Open'].shift(1)\n",
        "df['previous_Adj']=df['Adj Close'].shift(1)\n",
        "df['previous_High']=df['High'].shift(1)\n",
        "df['previous_Low']=df['Low'].shift(1)\n",
        "df['previous_Volume']=df['Volume'].shift(1)\n",
        "df['previous_close']=df['Close'].shift(1)\n",
        "df['Low_avr_5']=df['Low'].rolling(5).mean()\n",
        "df['Close_avr_5']=df['Adj Close'].rolling(5).mean()\n",
        "df['Open_Close']=df['Open']-df['previous_Adj']"
      ],
      "execution_count": 31,
      "outputs": []
    },
    {
      "cell_type": "code",
      "metadata": {
        "id": "TgL62pEeFBDo",
        "colab_type": "code",
        "colab": {
          "base_uri": "https://localhost:8080/",
          "height": 244
        },
        "outputId": "e43246b5-6a18-4344-d730-9572ccf03c7a"
      },
      "source": [
        "df.head(3)"
      ],
      "execution_count": 32,
      "outputs": [
        {
          "output_type": "execute_result",
          "data": {
            "text/html": [
              "<div>\n",
              "<style scoped>\n",
              "    .dataframe tbody tr th:only-of-type {\n",
              "        vertical-align: middle;\n",
              "    }\n",
              "\n",
              "    .dataframe tbody tr th {\n",
              "        vertical-align: top;\n",
              "    }\n",
              "\n",
              "    .dataframe thead th {\n",
              "        text-align: right;\n",
              "    }\n",
              "</style>\n",
              "<table border=\"1\" class=\"dataframe\">\n",
              "  <thead>\n",
              "    <tr style=\"text-align: right;\">\n",
              "      <th></th>\n",
              "      <th>High</th>\n",
              "      <th>Low</th>\n",
              "      <th>Open</th>\n",
              "      <th>Close</th>\n",
              "      <th>Volume</th>\n",
              "      <th>Adj Close</th>\n",
              "      <th>daily_return</th>\n",
              "      <th>low_vs_Open</th>\n",
              "      <th>high_vs_low</th>\n",
              "      <th>low_Close</th>\n",
              "      <th>previous_Open</th>\n",
              "      <th>previous_Adj</th>\n",
              "      <th>previous_High</th>\n",
              "      <th>previous_Low</th>\n",
              "      <th>previous_Volume</th>\n",
              "      <th>previous_close</th>\n",
              "      <th>Low_avr_5</th>\n",
              "      <th>Close_avr_5</th>\n",
              "      <th>Open_Close</th>\n",
              "    </tr>\n",
              "    <tr>\n",
              "      <th>Date</th>\n",
              "      <th></th>\n",
              "      <th></th>\n",
              "      <th></th>\n",
              "      <th></th>\n",
              "      <th></th>\n",
              "      <th></th>\n",
              "      <th></th>\n",
              "      <th></th>\n",
              "      <th></th>\n",
              "      <th></th>\n",
              "      <th></th>\n",
              "      <th></th>\n",
              "      <th></th>\n",
              "      <th></th>\n",
              "      <th></th>\n",
              "      <th></th>\n",
              "      <th></th>\n",
              "      <th></th>\n",
              "      <th></th>\n",
              "    </tr>\n",
              "  </thead>\n",
              "  <tbody>\n",
              "    <tr>\n",
              "      <th>2020-07-20</th>\n",
              "      <td>3201.360107</td>\n",
              "      <td>2994.020020</td>\n",
              "      <td>3000.199951</td>\n",
              "      <td>3196.840088</td>\n",
              "      <td>7598200</td>\n",
              "      <td>3196.840088</td>\n",
              "      <td>NaN</td>\n",
              "      <td>-0.205984</td>\n",
              "      <td>6.476625</td>\n",
              "      <td>6.344392</td>\n",
              "      <td>NaN</td>\n",
              "      <td>NaN</td>\n",
              "      <td>NaN</td>\n",
              "      <td>NaN</td>\n",
              "      <td>NaN</td>\n",
              "      <td>NaN</td>\n",
              "      <td>NaN</td>\n",
              "      <td>NaN</td>\n",
              "      <td>NaN</td>\n",
              "    </tr>\n",
              "    <tr>\n",
              "      <th>2020-07-21</th>\n",
              "      <td>3240.580078</td>\n",
              "      <td>3105.719971</td>\n",
              "      <td>3232.489990</td>\n",
              "      <td>3138.290039</td>\n",
              "      <td>6135000</td>\n",
              "      <td>3138.290039</td>\n",
              "      <td>-0.018315</td>\n",
              "      <td>-3.921745</td>\n",
              "      <td>4.161604</td>\n",
              "      <td>1.037828</td>\n",
              "      <td>3000.199951</td>\n",
              "      <td>3196.840088</td>\n",
              "      <td>3201.360107</td>\n",
              "      <td>2994.020020</td>\n",
              "      <td>7598200.0</td>\n",
              "      <td>3196.840088</td>\n",
              "      <td>NaN</td>\n",
              "      <td>NaN</td>\n",
              "      <td>35.649902</td>\n",
              "    </tr>\n",
              "    <tr>\n",
              "      <th>2020-07-22</th>\n",
              "      <td>3150.000000</td>\n",
              "      <td>3065.260010</td>\n",
              "      <td>3125.000000</td>\n",
              "      <td>3099.909912</td>\n",
              "      <td>4104200</td>\n",
              "      <td>3099.909912</td>\n",
              "      <td>-0.012230</td>\n",
              "      <td>-1.911680</td>\n",
              "      <td>2.690158</td>\n",
              "      <td>1.117771</td>\n",
              "      <td>3232.489990</td>\n",
              "      <td>3138.290039</td>\n",
              "      <td>3240.580078</td>\n",
              "      <td>3105.719971</td>\n",
              "      <td>6135000.0</td>\n",
              "      <td>3138.290039</td>\n",
              "      <td>NaN</td>\n",
              "      <td>NaN</td>\n",
              "      <td>-13.290039</td>\n",
              "    </tr>\n",
              "  </tbody>\n",
              "</table>\n",
              "</div>"
            ],
            "text/plain": [
              "                   High          Low  ...  Close_avr_5  Open_Close\n",
              "Date                                  ...                         \n",
              "2020-07-20  3201.360107  2994.020020  ...          NaN         NaN\n",
              "2020-07-21  3240.580078  3105.719971  ...          NaN   35.649902\n",
              "2020-07-22  3150.000000  3065.260010  ...          NaN  -13.290039\n",
              "\n",
              "[3 rows x 19 columns]"
            ]
          },
          "metadata": {
            "tags": []
          },
          "execution_count": 32
        }
      ]
    },
    {
      "cell_type": "code",
      "metadata": {
        "id": "gD8gq2bnTEGe",
        "colab_type": "code",
        "colab": {
          "base_uri": "https://localhost:8080/",
          "height": 127
        },
        "outputId": "efd83b24-fb80-487c-b8e2-1c5212c1b7d8"
      },
      "source": [
        "df.columns"
      ],
      "execution_count": 33,
      "outputs": [
        {
          "output_type": "execute_result",
          "data": {
            "text/plain": [
              "Index(['High', 'Low', 'Open', 'Close', 'Volume', 'Adj Close', 'daily_return',\n",
              "       'low_vs_Open', 'high_vs_low', 'low_Close', 'previous_Open',\n",
              "       'previous_Adj', 'previous_High', 'previous_Low', 'previous_Volume',\n",
              "       'previous_close', 'Low_avr_5', 'Close_avr_5', 'Open_Close'],\n",
              "      dtype='object')"
            ]
          },
          "metadata": {
            "tags": []
          },
          "execution_count": 33
        }
      ]
    },
    {
      "cell_type": "code",
      "metadata": {
        "id": "7Ms9GX24FFM4",
        "colab_type": "code",
        "colab": {}
      },
      "source": [
        "X=df[['Open','previous_Open','previous_Volume','previous_High','previous_Low','previous_close','Low_avr_5','Close_avr_5','Open_Close']].iloc[5:-1]\n",
        "x1=df[['Open','previous_Open','previous_Volume','previous_High','previous_Low','previous_close','Low_avr_5','Close_avr_5','Open_Close']].iloc[1::]\n",
        "y=df[['Low','Adj Close','High']].iloc[5:-1]"
      ],
      "execution_count": 34,
      "outputs": []
    },
    {
      "cell_type": "code",
      "metadata": {
        "id": "LdGGKghyFTuK",
        "colab_type": "code",
        "colab": {
          "base_uri": "https://localhost:8080/",
          "height": 199
        },
        "outputId": "ee709b0a-302c-4c29-8078-9d9f02fc80df"
      },
      "source": [
        "reg=LinearRegression().fit(X,y)\n",
        "reg.coef_"
      ],
      "execution_count": 35,
      "outputs": [
        {
          "output_type": "execute_result",
          "data": {
            "text/plain": [
              "array([[ 3.46178938e-01,  7.11850601e-01,  4.40546425e-06,\n",
              "        -9.29313457e-01,  1.98488064e-01, -1.02761304e-01,\n",
              "        -9.24059482e-01,  2.16735645e+00,  4.48940242e-01],\n",
              "       [ 4.80295932e-03,  1.31833571e+00,  3.10133838e-05,\n",
              "        -1.48339401e+00,  1.29023879e+00, -1.18655542e+00,\n",
              "        -9.85778543e+00,  1.25883322e+01,  1.19135838e+00],\n",
              "       [ 5.44697135e-01,  2.29349854e-01,  3.84901521e-06,\n",
              "        -1.44327628e+00,  2.61085824e-01,  5.69010261e-01,\n",
              "         2.98077495e+00, -2.14014902e+00, -2.43131260e-02]])"
            ]
          },
          "metadata": {
            "tags": []
          },
          "execution_count": 35
        }
      ]
    },
    {
      "cell_type": "code",
      "metadata": {
        "id": "_56bwNjvFVyz",
        "colab_type": "code",
        "colab": {
          "base_uri": "https://localhost:8080/",
          "height": 91
        },
        "outputId": "48c2f003-1686-4c0b-d29e-f1742ac94529"
      },
      "source": [
        "reg.score(X,y)"
      ],
      "execution_count": 38,
      "outputs": [
        {
          "output_type": "stream",
          "text": [
            "/usr/local/lib/python3.6/dist-packages/sklearn/base.py:434: FutureWarning: The default value of multioutput (not exposed in score method) will change from 'variance_weighted' to 'uniform_average' in 0.23 to keep consistent with 'metrics.r2_score'. To specify the default value manually and avoid the warning, please either call 'metrics.r2_score' directly or make a custom scorer with 'metrics.make_scorer' (the built-in scorer 'r2' uses multioutput='uniform_average').\n",
            "  \"multioutput='uniform_average').\", FutureWarning)\n"
          ],
          "name": "stderr"
        },
        {
          "output_type": "execute_result",
          "data": {
            "text/plain": [
              "1.0"
            ]
          },
          "metadata": {
            "tags": []
          },
          "execution_count": 38
        }
      ]
    },
    {
      "cell_type": "code",
      "metadata": {
        "id": "ttjkoByaF4hf",
        "colab_type": "code",
        "colab": {
          "base_uri": "https://localhost:8080/",
          "height": 55
        },
        "outputId": "8df80ab1-2ba4-41d8-ed49-92e51e6f1104"
      },
      "source": [
        "reg.intercept_"
      ],
      "execution_count": 39,
      "outputs": [
        {
          "output_type": "execute_result",
          "data": {
            "text/plain": [
              "array([-1472.18298163, -5549.78395138,   222.13423852])"
            ]
          },
          "metadata": {
            "tags": []
          },
          "execution_count": 39
        }
      ]
    },
    {
      "cell_type": "code",
      "metadata": {
        "id": "KJlHNaiu4M-u",
        "colab_type": "code",
        "colab": {}
      },
      "source": [
        "#df[['Close','Open']].loc['2020-07-23']"
      ],
      "execution_count": 40,
      "outputs": []
    },
    {
      "cell_type": "code",
      "metadata": {
        "id": "IL6B8_vqGIvT",
        "colab_type": "code",
        "colab": {
          "base_uri": "https://localhost:8080/",
          "height": 117
        },
        "outputId": "d5279767-9fc4-4340-ab4f-688a28fb6084"
      },
      "source": [
        "b=x1.iloc[-2]\n",
        "b\n",
        "l=pd.DataFrame(b) #columns=[['Open','previous_Volume','previous_Open','previous_High','previous_low']])\n",
        "#O=l\n",
        "O=l.T\n",
        "O"
      ],
      "execution_count": 41,
      "outputs": [
        {
          "output_type": "execute_result",
          "data": {
            "text/html": [
              "<div>\n",
              "<style scoped>\n",
              "    .dataframe tbody tr th:only-of-type {\n",
              "        vertical-align: middle;\n",
              "    }\n",
              "\n",
              "    .dataframe tbody tr th {\n",
              "        vertical-align: top;\n",
              "    }\n",
              "\n",
              "    .dataframe thead th {\n",
              "        text-align: right;\n",
              "    }\n",
              "</style>\n",
              "<table border=\"1\" class=\"dataframe\">\n",
              "  <thead>\n",
              "    <tr style=\"text-align: right;\">\n",
              "      <th></th>\n",
              "      <th>Open</th>\n",
              "      <th>previous_Open</th>\n",
              "      <th>previous_Volume</th>\n",
              "      <th>previous_High</th>\n",
              "      <th>previous_Low</th>\n",
              "      <th>previous_close</th>\n",
              "      <th>Low_avr_5</th>\n",
              "      <th>Close_avr_5</th>\n",
              "      <th>Open_Close</th>\n",
              "    </tr>\n",
              "  </thead>\n",
              "  <tbody>\n",
              "    <tr>\n",
              "      <th>2020-08-06</th>\n",
              "      <td>3194.360107</td>\n",
              "      <td>3143.77002</td>\n",
              "      <td>3930000.0</td>\n",
              "      <td>3213.590088</td>\n",
              "      <td>3127.300049</td>\n",
              "      <td>3205.030029</td>\n",
              "      <td>3129.787988</td>\n",
              "      <td>3169.085986</td>\n",
              "      <td>-10.669922</td>\n",
              "    </tr>\n",
              "  </tbody>\n",
              "</table>\n",
              "</div>"
            ],
            "text/plain": [
              "                   Open  previous_Open  ...  Close_avr_5  Open_Close\n",
              "2020-08-06  3194.360107     3143.77002  ...  3169.085986  -10.669922\n",
              "\n",
              "[1 rows x 9 columns]"
            ]
          },
          "metadata": {
            "tags": []
          },
          "execution_count": 41
        }
      ]
    },
    {
      "cell_type": "code",
      "metadata": {
        "id": "GP-SfjaUHaFB",
        "colab_type": "code",
        "colab": {
          "base_uri": "https://localhost:8080/",
          "height": 55
        },
        "outputId": "5f713877-ed10-4a00-923e-9b97d6bc634d"
      },
      "source": [
        "c=reg.predict(O)\n",
        "c"
      ],
      "execution_count": 42,
      "outputs": [
        {
          "output_type": "execute_result",
          "data": {
            "text/plain": [
              "array([[3165.42993164, 3225.        , 3247.4699707 ]])"
            ]
          },
          "metadata": {
            "tags": []
          },
          "execution_count": 42
        }
      ]
    },
    {
      "cell_type": "code",
      "metadata": {
        "id": "ZO39pBtfSTvv",
        "colab_type": "code",
        "colab": {
          "base_uri": "https://localhost:8080/",
          "height": 34
        },
        "outputId": "b0c96c43-6461-4354-945b-4f5511561a5e"
      },
      "source": [
        "c.shape"
      ],
      "execution_count": null,
      "outputs": [
        {
          "output_type": "execute_result",
          "data": {
            "text/plain": [
              "(1, 3)"
            ]
          },
          "metadata": {
            "tags": []
          },
          "execution_count": 223
        }
      ]
    },
    {
      "cell_type": "code",
      "metadata": {
        "id": "azpvPbqI90VS",
        "colab_type": "code",
        "colab": {
          "base_uri": "https://localhost:8080/",
          "height": 34
        },
        "outputId": "7a62cfb8-b442-437a-eaf6-5bc75e94a8f1"
      },
      "source": [
        "print('Low,Close,High')"
      ],
      "execution_count": null,
      "outputs": [
        {
          "output_type": "stream",
          "text": [
            "Low,Close,High\n"
          ],
          "name": "stdout"
        }
      ]
    },
    {
      "cell_type": "code",
      "metadata": {
        "id": "CS6OgqJ-GPbm",
        "colab_type": "code",
        "colab": {
          "base_uri": "https://localhost:8080/",
          "height": 532
        },
        "outputId": "36307adb-244a-499e-aeca-4d4ad3aab918"
      },
      "source": [
        "df[['Low','Close','High','Open']].iloc[6::]"
      ],
      "execution_count": 43,
      "outputs": [
        {
          "output_type": "execute_result",
          "data": {
            "text/html": [
              "<div>\n",
              "<style scoped>\n",
              "    .dataframe tbody tr th:only-of-type {\n",
              "        vertical-align: middle;\n",
              "    }\n",
              "\n",
              "    .dataframe tbody tr th {\n",
              "        vertical-align: top;\n",
              "    }\n",
              "\n",
              "    .dataframe thead th {\n",
              "        text-align: right;\n",
              "    }\n",
              "</style>\n",
              "<table border=\"1\" class=\"dataframe\">\n",
              "  <thead>\n",
              "    <tr style=\"text-align: right;\">\n",
              "      <th></th>\n",
              "      <th>Low</th>\n",
              "      <th>Close</th>\n",
              "      <th>High</th>\n",
              "      <th>Open</th>\n",
              "    </tr>\n",
              "    <tr>\n",
              "      <th>Date</th>\n",
              "      <th></th>\n",
              "      <th></th>\n",
              "      <th></th>\n",
              "      <th></th>\n",
              "    </tr>\n",
              "  </thead>\n",
              "  <tbody>\n",
              "    <tr>\n",
              "      <th>2020-07-28</th>\n",
              "      <td>2995.760010</td>\n",
              "      <td>3000.330078</td>\n",
              "      <td>3077.090088</td>\n",
              "      <td>3054.270020</td>\n",
              "    </tr>\n",
              "    <tr>\n",
              "      <th>2020-07-29</th>\n",
              "      <td>2996.770020</td>\n",
              "      <td>3033.530029</td>\n",
              "      <td>3039.159912</td>\n",
              "      <td>3030.989990</td>\n",
              "    </tr>\n",
              "    <tr>\n",
              "      <th>2020-07-30</th>\n",
              "      <td>3005.000000</td>\n",
              "      <td>3051.879883</td>\n",
              "      <td>3092.000000</td>\n",
              "      <td>3014.000000</td>\n",
              "    </tr>\n",
              "    <tr>\n",
              "      <th>2020-07-31</th>\n",
              "      <td>3151.000000</td>\n",
              "      <td>3164.679932</td>\n",
              "      <td>3246.820068</td>\n",
              "      <td>3244.000000</td>\n",
              "    </tr>\n",
              "    <tr>\n",
              "      <th>2020-08-03</th>\n",
              "      <td>3104.000000</td>\n",
              "      <td>3111.889893</td>\n",
              "      <td>3184.000000</td>\n",
              "      <td>3180.510010</td>\n",
              "    </tr>\n",
              "    <tr>\n",
              "      <th>2020-08-04</th>\n",
              "      <td>3101.209961</td>\n",
              "      <td>3138.830078</td>\n",
              "      <td>3167.239990</td>\n",
              "      <td>3101.209961</td>\n",
              "    </tr>\n",
              "    <tr>\n",
              "      <th>2020-08-05</th>\n",
              "      <td>3127.300049</td>\n",
              "      <td>3205.030029</td>\n",
              "      <td>3213.590088</td>\n",
              "      <td>3143.770020</td>\n",
              "    </tr>\n",
              "    <tr>\n",
              "      <th>2020-08-06</th>\n",
              "      <td>3165.429932</td>\n",
              "      <td>3225.000000</td>\n",
              "      <td>3247.469971</td>\n",
              "      <td>3194.360107</td>\n",
              "    </tr>\n",
              "    <tr>\n",
              "      <th>2020-08-07</th>\n",
              "      <td>3140.669922</td>\n",
              "      <td>3167.459961</td>\n",
              "      <td>3240.810059</td>\n",
              "      <td>3224.010010</td>\n",
              "    </tr>\n",
              "  </tbody>\n",
              "</table>\n",
              "</div>"
            ],
            "text/plain": [
              "                    Low        Close         High         Open\n",
              "Date                                                          \n",
              "2020-07-28  2995.760010  3000.330078  3077.090088  3054.270020\n",
              "2020-07-29  2996.770020  3033.530029  3039.159912  3030.989990\n",
              "2020-07-30  3005.000000  3051.879883  3092.000000  3014.000000\n",
              "2020-07-31  3151.000000  3164.679932  3246.820068  3244.000000\n",
              "2020-08-03  3104.000000  3111.889893  3184.000000  3180.510010\n",
              "2020-08-04  3101.209961  3138.830078  3167.239990  3101.209961\n",
              "2020-08-05  3127.300049  3205.030029  3213.590088  3143.770020\n",
              "2020-08-06  3165.429932  3225.000000  3247.469971  3194.360107\n",
              "2020-08-07  3140.669922  3167.459961  3240.810059  3224.010010"
            ]
          },
          "metadata": {
            "tags": []
          },
          "execution_count": 43
        }
      ]
    },
    {
      "cell_type": "code",
      "metadata": {
        "id": "5RDu6_rgTiWA",
        "colab_type": "code",
        "colab": {
          "base_uri": "https://localhost:8080/",
          "height": 231
        },
        "outputId": "5961b9dc-33bf-4dd9-bb76-05f192d10c64"
      },
      "source": [
        "t=c[0:-1,0]\n",
        "#t.shape\n",
        "yu=t.reshape(3414,1)\n",
        "you=pd.DataFrame(yu)\n",
        "you"
      ],
      "execution_count": null,
      "outputs": [
        {
          "output_type": "error",
          "ename": "ValueError",
          "evalue": "ignored",
          "traceback": [
            "\u001b[0;31m---------------------------------------------------------------------------\u001b[0m",
            "\u001b[0;31mValueError\u001b[0m                                Traceback (most recent call last)",
            "\u001b[0;32m<ipython-input-227-4720a7397c85>\u001b[0m in \u001b[0;36m<module>\u001b[0;34m()\u001b[0m\n\u001b[1;32m      1\u001b[0m \u001b[0mt\u001b[0m\u001b[0;34m=\u001b[0m\u001b[0mc\u001b[0m\u001b[0;34m[\u001b[0m\u001b[0;36m0\u001b[0m\u001b[0;34m:\u001b[0m\u001b[0;34m-\u001b[0m\u001b[0;36m1\u001b[0m\u001b[0;34m,\u001b[0m\u001b[0;36m0\u001b[0m\u001b[0;34m]\u001b[0m\u001b[0;34m\u001b[0m\u001b[0;34m\u001b[0m\u001b[0m\n\u001b[1;32m      2\u001b[0m \u001b[0;31m#t.shape\u001b[0m\u001b[0;34m\u001b[0m\u001b[0;34m\u001b[0m\u001b[0;34m\u001b[0m\u001b[0m\n\u001b[0;32m----> 3\u001b[0;31m \u001b[0myu\u001b[0m\u001b[0;34m=\u001b[0m\u001b[0mt\u001b[0m\u001b[0;34m.\u001b[0m\u001b[0mreshape\u001b[0m\u001b[0;34m(\u001b[0m\u001b[0;36m3414\u001b[0m\u001b[0;34m,\u001b[0m\u001b[0;36m1\u001b[0m\u001b[0;34m)\u001b[0m\u001b[0;34m\u001b[0m\u001b[0;34m\u001b[0m\u001b[0m\n\u001b[0m\u001b[1;32m      4\u001b[0m \u001b[0myou\u001b[0m\u001b[0;34m=\u001b[0m\u001b[0mpd\u001b[0m\u001b[0;34m.\u001b[0m\u001b[0mDataFrame\u001b[0m\u001b[0;34m(\u001b[0m\u001b[0myu\u001b[0m\u001b[0;34m)\u001b[0m\u001b[0;34m\u001b[0m\u001b[0;34m\u001b[0m\u001b[0m\n\u001b[1;32m      5\u001b[0m \u001b[0myou\u001b[0m\u001b[0;34m\u001b[0m\u001b[0;34m\u001b[0m\u001b[0m\n",
            "\u001b[0;31mValueError\u001b[0m: cannot reshape array of size 0 into shape (3414,1)"
          ]
        }
      ]
    },
    {
      "cell_type": "code",
      "metadata": {
        "id": "AJzFdlcl-W0K",
        "colab_type": "code",
        "colab": {}
      },
      "source": [
        "ki=df['Low'].iloc[6:-1]\n",
        "ki.reset_index(drop='True',inplace=True)"
      ],
      "execution_count": null,
      "outputs": []
    },
    {
      "cell_type": "code",
      "metadata": {
        "id": "hM_H61bo_3gt",
        "colab_type": "code",
        "colab": {}
      },
      "source": [
        "new_ed=pd.concat([you,ki],axis=1)\n",
        "#new_ed.rename(columns={0:'esti'})\n",
        "new_ed['diff']=new_ed['Low']-new_ed[0]\n",
        "new_ed['diff%']=new_ed['diff']*100/new_ed['Low']\n",
        "new_ed"
      ],
      "execution_count": null,
      "outputs": []
    },
    {
      "cell_type": "code",
      "metadata": {
        "id": "rDb0uPfVttLr",
        "colab_type": "code",
        "colab": {}
      },
      "source": [
        "#d=c.reshape(1,3) \n",
        "#d[0][1]\n",
        "#(-df['previous_close'].iloc[-1]+d[0][1])#*100/df['Open'].iloc[-1]"
      ],
      "execution_count": null,
      "outputs": []
    },
    {
      "cell_type": "code",
      "metadata": {
        "id": "9fDTENI4FRSh",
        "colab_type": "code",
        "colab": {}
      },
      "source": [
        "new_ed['diff%'].tail(252).plot(figsize=(14,8))"
      ],
      "execution_count": null,
      "outputs": []
    },
    {
      "cell_type": "markdown",
      "metadata": {
        "id": "hipsQGwDMJeh",
        "colab_type": "text"
      },
      "source": [
        "**Predict** **for** **tomorrow** the **Low** **price** **and** **the** **Close** **Price**"
      ]
    },
    {
      "cell_type": "code",
      "metadata": {
        "id": "hjlKVS8JGkjq",
        "colab_type": "code",
        "colab": {
          "base_uri": "https://localhost:8080/",
          "height": 173
        },
        "outputId": "2882d00c-0efc-4958-8208-55496b849f88"
      },
      "source": [
        "new_ed['diff%'].describe()"
      ],
      "execution_count": null,
      "outputs": [
        {
          "output_type": "execute_result",
          "data": {
            "text/plain": [
              "count    3412.000000\n",
              "mean       -0.027030\n",
              "std         1.255873\n",
              "min       -25.591031\n",
              "25%        -0.428578\n",
              "50%         0.214122\n",
              "75%         0.613096\n",
              "max         6.375410\n",
              "Name: diff%, dtype: float64"
            ]
          },
          "metadata": {
            "tags": []
          },
          "execution_count": 142
        }
      ]
    },
    {
      "cell_type": "code",
      "metadata": {
        "id": "_razAGcIHUR6",
        "colab_type": "code",
        "colab": {}
      },
      "source": [
        "predict_next=df[['Adj Close','Open','Volume','High','Low','Close']].iloc[4:-2]\n",
        "d=np.array(predict_next)"
      ],
      "execution_count": null,
      "outputs": []
    },
    {
      "cell_type": "code",
      "metadata": {
        "id": "FlOCYTTBJdGp",
        "colab_type": "code",
        "colab": {
          "base_uri": "https://localhost:8080/",
          "height": 52
        },
        "outputId": "7cd3e7d0-0357-4c12-f24a-ccd0d5a14847"
      },
      "source": [
        "pre=d.reshape(1,-1)\n",
        "pre"
      ],
      "execution_count": null,
      "outputs": [
        {
          "output_type": "execute_result",
          "data": {
            "text/plain": [
              "array([[1.61100006e+01, 2.00000000e+01, 6.86690000e+06, ...,\n",
              "        1.53481006e+03, 1.48700000e+03, 1.49910999e+03]])"
            ]
          },
          "metadata": {
            "tags": []
          },
          "execution_count": 93
        }
      ]
    },
    {
      "cell_type": "code",
      "metadata": {
        "id": "zT4-7OubNtsO",
        "colab_type": "code",
        "colab": {
          "base_uri": "https://localhost:8080/",
          "height": 35
        },
        "outputId": "37bce8d3-e832-4c10-f990-e3699e64f5fd"
      },
      "source": [
        "df['previous_close'].iloc[-1]"
      ],
      "execution_count": null,
      "outputs": [
        {
          "output_type": "execute_result",
          "data": {
            "text/plain": [
              "1487.489990234375"
            ]
          },
          "metadata": {
            "tags": []
          },
          "execution_count": 94
        }
      ]
    },
    {
      "cell_type": "code",
      "metadata": {
        "id": "TuGpKAl6Q5Vs",
        "colab_type": "code",
        "colab": {}
      },
      "source": [
        ""
      ],
      "execution_count": null,
      "outputs": []
    }
  ]
}